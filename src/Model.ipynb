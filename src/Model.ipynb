{
 "cells": [
  {
   "cell_type": "code",
   "execution_count": 1,
   "id": "988fbcad",
   "metadata": {},
   "outputs": [],
   "source": [
    "#Importing required libraries\n",
    "import numpy as np\n",
    "import pandas as pd\n",
    "import matplotlib.pyplot as plt\n",
    "import seaborn as sns\n",
    "\n",
    "from sklearn.linear_model import LogisticRegression,LinearRegression\n",
    "from sklearn.neighbors import KNeighborsClassifier\n",
    "from sklearn.ensemble import RandomForestClassifier\n",
    "from sklearn import svm\n",
    "from sklearn.model_selection import train_test_split, cross_val_score\n",
    "\n",
    "\n",
    "from sklearn.metrics import precision_score, recall_score,f1_score,accuracy_score\n",
    "from sklearn.metrics import plot_roc_curve,confusion_matrix"
   ]
  },
  {
   "cell_type": "code",
   "execution_count": 2,
   "id": "27f25afe",
   "metadata": {},
   "outputs": [],
   "source": [
    "#Reading data\n",
    "df=pd.read_csv(\"../heart.csv\")"
   ]
  },
  {
   "cell_type": "markdown",
   "id": "02b292c8",
   "metadata": {},
   "source": []
  },
  {
   "cell_type": "code",
   "execution_count": 3,
   "id": "0604c684",
   "metadata": {},
   "outputs": [],
   "source": [
    "#Creating Dummy variables\n",
    "a = pd.get_dummies(df['cp'], prefix = \"cp\")\n",
    "b = pd.get_dummies(df['thal'], prefix = \"thal\")\n",
    "c = pd.get_dummies(df['slope'], prefix = \"slope\")"
   ]
  },
  {
   "cell_type": "code",
   "execution_count": 4,
   "id": "79ad1273",
   "metadata": {},
   "outputs": [
    {
     "data": {
      "text/html": [
       "<div>\n",
       "<style scoped>\n",
       "    .dataframe tbody tr th:only-of-type {\n",
       "        vertical-align: middle;\n",
       "    }\n",
       "\n",
       "    .dataframe tbody tr th {\n",
       "        vertical-align: top;\n",
       "    }\n",
       "\n",
       "    .dataframe thead th {\n",
       "        text-align: right;\n",
       "    }\n",
       "</style>\n",
       "<table border=\"1\" class=\"dataframe\">\n",
       "  <thead>\n",
       "    <tr style=\"text-align: right;\">\n",
       "      <th></th>\n",
       "      <th>age</th>\n",
       "      <th>sex</th>\n",
       "      <th>cp</th>\n",
       "      <th>trestbps</th>\n",
       "      <th>chol</th>\n",
       "      <th>fbs</th>\n",
       "      <th>restecg</th>\n",
       "      <th>thalach</th>\n",
       "      <th>exang</th>\n",
       "      <th>oldpeak</th>\n",
       "      <th>...</th>\n",
       "      <th>cp_1</th>\n",
       "      <th>cp_2</th>\n",
       "      <th>cp_3</th>\n",
       "      <th>thal_0</th>\n",
       "      <th>thal_1</th>\n",
       "      <th>thal_2</th>\n",
       "      <th>thal_3</th>\n",
       "      <th>slope_0</th>\n",
       "      <th>slope_1</th>\n",
       "      <th>slope_2</th>\n",
       "    </tr>\n",
       "  </thead>\n",
       "  <tbody>\n",
       "    <tr>\n",
       "      <th>0</th>\n",
       "      <td>63</td>\n",
       "      <td>1</td>\n",
       "      <td>3</td>\n",
       "      <td>145</td>\n",
       "      <td>233</td>\n",
       "      <td>1</td>\n",
       "      <td>0</td>\n",
       "      <td>150</td>\n",
       "      <td>0</td>\n",
       "      <td>2.3</td>\n",
       "      <td>...</td>\n",
       "      <td>0</td>\n",
       "      <td>0</td>\n",
       "      <td>1</td>\n",
       "      <td>0</td>\n",
       "      <td>1</td>\n",
       "      <td>0</td>\n",
       "      <td>0</td>\n",
       "      <td>1</td>\n",
       "      <td>0</td>\n",
       "      <td>0</td>\n",
       "    </tr>\n",
       "    <tr>\n",
       "      <th>1</th>\n",
       "      <td>37</td>\n",
       "      <td>1</td>\n",
       "      <td>2</td>\n",
       "      <td>130</td>\n",
       "      <td>250</td>\n",
       "      <td>0</td>\n",
       "      <td>1</td>\n",
       "      <td>187</td>\n",
       "      <td>0</td>\n",
       "      <td>3.5</td>\n",
       "      <td>...</td>\n",
       "      <td>0</td>\n",
       "      <td>1</td>\n",
       "      <td>0</td>\n",
       "      <td>0</td>\n",
       "      <td>0</td>\n",
       "      <td>1</td>\n",
       "      <td>0</td>\n",
       "      <td>1</td>\n",
       "      <td>0</td>\n",
       "      <td>0</td>\n",
       "    </tr>\n",
       "    <tr>\n",
       "      <th>2</th>\n",
       "      <td>41</td>\n",
       "      <td>0</td>\n",
       "      <td>1</td>\n",
       "      <td>130</td>\n",
       "      <td>204</td>\n",
       "      <td>0</td>\n",
       "      <td>0</td>\n",
       "      <td>172</td>\n",
       "      <td>0</td>\n",
       "      <td>1.4</td>\n",
       "      <td>...</td>\n",
       "      <td>1</td>\n",
       "      <td>0</td>\n",
       "      <td>0</td>\n",
       "      <td>0</td>\n",
       "      <td>0</td>\n",
       "      <td>1</td>\n",
       "      <td>0</td>\n",
       "      <td>0</td>\n",
       "      <td>0</td>\n",
       "      <td>1</td>\n",
       "    </tr>\n",
       "    <tr>\n",
       "      <th>3</th>\n",
       "      <td>56</td>\n",
       "      <td>1</td>\n",
       "      <td>1</td>\n",
       "      <td>120</td>\n",
       "      <td>236</td>\n",
       "      <td>0</td>\n",
       "      <td>1</td>\n",
       "      <td>178</td>\n",
       "      <td>0</td>\n",
       "      <td>0.8</td>\n",
       "      <td>...</td>\n",
       "      <td>1</td>\n",
       "      <td>0</td>\n",
       "      <td>0</td>\n",
       "      <td>0</td>\n",
       "      <td>0</td>\n",
       "      <td>1</td>\n",
       "      <td>0</td>\n",
       "      <td>0</td>\n",
       "      <td>0</td>\n",
       "      <td>1</td>\n",
       "    </tr>\n",
       "    <tr>\n",
       "      <th>4</th>\n",
       "      <td>57</td>\n",
       "      <td>0</td>\n",
       "      <td>0</td>\n",
       "      <td>120</td>\n",
       "      <td>354</td>\n",
       "      <td>0</td>\n",
       "      <td>1</td>\n",
       "      <td>163</td>\n",
       "      <td>1</td>\n",
       "      <td>0.6</td>\n",
       "      <td>...</td>\n",
       "      <td>0</td>\n",
       "      <td>0</td>\n",
       "      <td>0</td>\n",
       "      <td>0</td>\n",
       "      <td>0</td>\n",
       "      <td>1</td>\n",
       "      <td>0</td>\n",
       "      <td>0</td>\n",
       "      <td>0</td>\n",
       "      <td>1</td>\n",
       "    </tr>\n",
       "  </tbody>\n",
       "</table>\n",
       "<p>5 rows × 25 columns</p>\n",
       "</div>"
      ],
      "text/plain": [
       "   age  sex  cp  trestbps  chol  fbs  restecg  thalach  exang  oldpeak  ...  \\\n",
       "0   63    1   3       145   233    1        0      150      0      2.3  ...   \n",
       "1   37    1   2       130   250    0        1      187      0      3.5  ...   \n",
       "2   41    0   1       130   204    0        0      172      0      1.4  ...   \n",
       "3   56    1   1       120   236    0        1      178      0      0.8  ...   \n",
       "4   57    0   0       120   354    0        1      163      1      0.6  ...   \n",
       "\n",
       "   cp_1  cp_2  cp_3  thal_0  thal_1  thal_2  thal_3  slope_0  slope_1  slope_2  \n",
       "0     0     0     1       0       1       0       0        1        0        0  \n",
       "1     0     1     0       0       0       1       0        1        0        0  \n",
       "2     1     0     0       0       0       1       0        0        0        1  \n",
       "3     1     0     0       0       0       1       0        0        0        1  \n",
       "4     0     0     0       0       0       1       0        0        0        1  \n",
       "\n",
       "[5 rows x 25 columns]"
      ]
     },
     "execution_count": 4,
     "metadata": {},
     "output_type": "execute_result"
    }
   ],
   "source": [
    "#Combining Dummy variables with dataframe\n",
    "frames = [df, a, b, c]\n",
    "df = pd.concat(frames, axis = 1)\n",
    "df.head()"
   ]
  },
  {
   "cell_type": "code",
   "execution_count": 5,
   "id": "05275c9f",
   "metadata": {},
   "outputs": [
    {
     "data": {
      "text/html": [
       "<div>\n",
       "<style scoped>\n",
       "    .dataframe tbody tr th:only-of-type {\n",
       "        vertical-align: middle;\n",
       "    }\n",
       "\n",
       "    .dataframe tbody tr th {\n",
       "        vertical-align: top;\n",
       "    }\n",
       "\n",
       "    .dataframe thead th {\n",
       "        text-align: right;\n",
       "    }\n",
       "</style>\n",
       "<table border=\"1\" class=\"dataframe\">\n",
       "  <thead>\n",
       "    <tr style=\"text-align: right;\">\n",
       "      <th></th>\n",
       "      <th>age</th>\n",
       "      <th>sex</th>\n",
       "      <th>trestbps</th>\n",
       "      <th>chol</th>\n",
       "      <th>fbs</th>\n",
       "      <th>restecg</th>\n",
       "      <th>thalach</th>\n",
       "      <th>exang</th>\n",
       "      <th>oldpeak</th>\n",
       "      <th>ca</th>\n",
       "      <th>...</th>\n",
       "      <th>cp_1</th>\n",
       "      <th>cp_2</th>\n",
       "      <th>cp_3</th>\n",
       "      <th>thal_0</th>\n",
       "      <th>thal_1</th>\n",
       "      <th>thal_2</th>\n",
       "      <th>thal_3</th>\n",
       "      <th>slope_0</th>\n",
       "      <th>slope_1</th>\n",
       "      <th>slope_2</th>\n",
       "    </tr>\n",
       "  </thead>\n",
       "  <tbody>\n",
       "    <tr>\n",
       "      <th>0</th>\n",
       "      <td>63</td>\n",
       "      <td>1</td>\n",
       "      <td>145</td>\n",
       "      <td>233</td>\n",
       "      <td>1</td>\n",
       "      <td>0</td>\n",
       "      <td>150</td>\n",
       "      <td>0</td>\n",
       "      <td>2.3</td>\n",
       "      <td>0</td>\n",
       "      <td>...</td>\n",
       "      <td>0</td>\n",
       "      <td>0</td>\n",
       "      <td>1</td>\n",
       "      <td>0</td>\n",
       "      <td>1</td>\n",
       "      <td>0</td>\n",
       "      <td>0</td>\n",
       "      <td>1</td>\n",
       "      <td>0</td>\n",
       "      <td>0</td>\n",
       "    </tr>\n",
       "    <tr>\n",
       "      <th>1</th>\n",
       "      <td>37</td>\n",
       "      <td>1</td>\n",
       "      <td>130</td>\n",
       "      <td>250</td>\n",
       "      <td>0</td>\n",
       "      <td>1</td>\n",
       "      <td>187</td>\n",
       "      <td>0</td>\n",
       "      <td>3.5</td>\n",
       "      <td>0</td>\n",
       "      <td>...</td>\n",
       "      <td>0</td>\n",
       "      <td>1</td>\n",
       "      <td>0</td>\n",
       "      <td>0</td>\n",
       "      <td>0</td>\n",
       "      <td>1</td>\n",
       "      <td>0</td>\n",
       "      <td>1</td>\n",
       "      <td>0</td>\n",
       "      <td>0</td>\n",
       "    </tr>\n",
       "    <tr>\n",
       "      <th>2</th>\n",
       "      <td>41</td>\n",
       "      <td>0</td>\n",
       "      <td>130</td>\n",
       "      <td>204</td>\n",
       "      <td>0</td>\n",
       "      <td>0</td>\n",
       "      <td>172</td>\n",
       "      <td>0</td>\n",
       "      <td>1.4</td>\n",
       "      <td>0</td>\n",
       "      <td>...</td>\n",
       "      <td>1</td>\n",
       "      <td>0</td>\n",
       "      <td>0</td>\n",
       "      <td>0</td>\n",
       "      <td>0</td>\n",
       "      <td>1</td>\n",
       "      <td>0</td>\n",
       "      <td>0</td>\n",
       "      <td>0</td>\n",
       "      <td>1</td>\n",
       "    </tr>\n",
       "    <tr>\n",
       "      <th>3</th>\n",
       "      <td>56</td>\n",
       "      <td>1</td>\n",
       "      <td>120</td>\n",
       "      <td>236</td>\n",
       "      <td>0</td>\n",
       "      <td>1</td>\n",
       "      <td>178</td>\n",
       "      <td>0</td>\n",
       "      <td>0.8</td>\n",
       "      <td>0</td>\n",
       "      <td>...</td>\n",
       "      <td>1</td>\n",
       "      <td>0</td>\n",
       "      <td>0</td>\n",
       "      <td>0</td>\n",
       "      <td>0</td>\n",
       "      <td>1</td>\n",
       "      <td>0</td>\n",
       "      <td>0</td>\n",
       "      <td>0</td>\n",
       "      <td>1</td>\n",
       "    </tr>\n",
       "    <tr>\n",
       "      <th>4</th>\n",
       "      <td>57</td>\n",
       "      <td>0</td>\n",
       "      <td>120</td>\n",
       "      <td>354</td>\n",
       "      <td>0</td>\n",
       "      <td>1</td>\n",
       "      <td>163</td>\n",
       "      <td>1</td>\n",
       "      <td>0.6</td>\n",
       "      <td>0</td>\n",
       "      <td>...</td>\n",
       "      <td>0</td>\n",
       "      <td>0</td>\n",
       "      <td>0</td>\n",
       "      <td>0</td>\n",
       "      <td>0</td>\n",
       "      <td>1</td>\n",
       "      <td>0</td>\n",
       "      <td>0</td>\n",
       "      <td>0</td>\n",
       "      <td>1</td>\n",
       "    </tr>\n",
       "  </tbody>\n",
       "</table>\n",
       "<p>5 rows × 22 columns</p>\n",
       "</div>"
      ],
      "text/plain": [
       "   age  sex  trestbps  chol  fbs  restecg  thalach  exang  oldpeak  ca  ...  \\\n",
       "0   63    1       145   233    1        0      150      0      2.3   0  ...   \n",
       "1   37    1       130   250    0        1      187      0      3.5   0  ...   \n",
       "2   41    0       130   204    0        0      172      0      1.4   0  ...   \n",
       "3   56    1       120   236    0        1      178      0      0.8   0  ...   \n",
       "4   57    0       120   354    0        1      163      1      0.6   0  ...   \n",
       "\n",
       "   cp_1  cp_2  cp_3  thal_0  thal_1  thal_2  thal_3  slope_0  slope_1  slope_2  \n",
       "0     0     0     1       0       1       0       0        1        0        0  \n",
       "1     0     1     0       0       0       1       0        1        0        0  \n",
       "2     1     0     0       0       0       1       0        0        0        1  \n",
       "3     1     0     0       0       0       1       0        0        0        1  \n",
       "4     0     0     0       0       0       1       0        0        0        1  \n",
       "\n",
       "[5 rows x 22 columns]"
      ]
     },
     "execution_count": 5,
     "metadata": {},
     "output_type": "execute_result"
    }
   ],
   "source": [
    "#Dropping original fields whose dummy variables were created\n",
    "df = df.drop(columns = ['cp', 'thal', 'slope'])\n",
    "df.head()"
   ]
  },
  {
   "cell_type": "markdown",
   "id": "e4d4f6ab",
   "metadata": {},
   "source": [
    "# Model Training"
   ]
  },
  {
   "cell_type": "code",
   "execution_count": 6,
   "id": "62e08554",
   "metadata": {},
   "outputs": [],
   "source": [
    "# Splitting data into target feature and other features\n",
    "x = df.drop(\"target\", axis=1)\n",
    "y = df[\"target\"]"
   ]
  },
  {
   "cell_type": "code",
   "execution_count": 7,
   "id": "42138eec",
   "metadata": {},
   "outputs": [],
   "source": [
    "# Splitting data into training and testing sets\n",
    "np.random.seed(42)\n",
    "x_train,x_test,y_train,y_test=train_test_split(x,y,test_size=0.2)"
   ]
  },
  {
   "cell_type": "code",
   "execution_count": 8,
   "id": "b4e6d46b",
   "metadata": {},
   "outputs": [],
   "source": [
    "#Creating dictionaries to store accuracy and recall values\n",
    "accuracy_values={}\n",
    "recall_values={}\n",
    "f1_values={}"
   ]
  },
  {
   "cell_type": "markdown",
   "id": "49c99a49",
   "metadata": {},
   "source": [
    "## Logistic Regression"
   ]
  },
  {
   "cell_type": "code",
   "execution_count": 9,
   "id": "8fefd77c",
   "metadata": {},
   "outputs": [
    {
     "name": "stderr",
     "output_type": "stream",
     "text": [
      "C:\\Users\\anjan\\anaconda3\\lib\\site-packages\\sklearn\\linear_model\\_logistic.py:763: ConvergenceWarning: lbfgs failed to converge (status=1):\n",
      "STOP: TOTAL NO. of ITERATIONS REACHED LIMIT.\n",
      "\n",
      "Increase the number of iterations (max_iter) or scale the data as shown in:\n",
      "    https://scikit-learn.org/stable/modules/preprocessing.html\n",
      "Please also refer to the documentation for alternative solver options:\n",
      "    https://scikit-learn.org/stable/modules/linear_model.html#logistic-regression\n",
      "  n_iter_i = _check_optimize_result(\n"
     ]
    },
    {
     "data": {
      "text/plain": [
       "LogisticRegression()"
      ]
     },
     "execution_count": 9,
     "metadata": {},
     "output_type": "execute_result"
    }
   ],
   "source": [
    "#Creating the logistic regression model\n",
    "logistic_model=LogisticRegression()\n",
    "logistic_model.fit(x_train,y_train)"
   ]
  },
  {
   "cell_type": "code",
   "execution_count": 10,
   "id": "fb1411a4",
   "metadata": {},
   "outputs": [],
   "source": [
    "#Predicting/testing the Logistic Regression model\n",
    "y_pred_logistic=logistic_model.predict(x_test)"
   ]
  },
  {
   "cell_type": "code",
   "execution_count": 11,
   "id": "79cac7e2",
   "metadata": {},
   "outputs": [
    {
     "name": "stdout",
     "output_type": "stream",
     "text": [
      "Accuracy score : 0.885\n",
      "Recall score   : 0.844\n",
      "F1 score       : 0.885\n"
     ]
    }
   ],
   "source": [
    "#Accuracy and recall values\n",
    "print(\"Accuracy score : %0.3f\"%accuracy_score(y_test,y_pred_logistic))\n",
    "print(\"Recall score   : %0.3f\"%recall_score(y_test,y_pred_logistic))\n",
    "print(\"F1 score       : %0.3f\"%f1_score(y_test,y_pred_logistic))"
   ]
  },
  {
   "cell_type": "code",
   "execution_count": 12,
   "id": "7f7d8e5d",
   "metadata": {},
   "outputs": [],
   "source": [
    "#Adding the accuracy scores to the dictionaries\n",
    "accuracy_values[\"Logistic_Regression\"]=accuracy_score(y_test,y_pred_logistic)*100\n",
    "recall_values[\"Logistic_Regression\"]=recall_score(y_test,y_pred_logistic)*100\n",
    "f1_values[\"Logistic_Regression\"]=f1_score(y_test,y_pred_logistic)*100"
   ]
  },
  {
   "cell_type": "code",
   "execution_count": 13,
   "id": "db5fdc83",
   "metadata": {},
   "outputs": [
    {
     "data": {
      "image/png": "[encoded data removed]",
      "text/plain": [
       "<Figure size 432x288 with 2 Axes>"
      ]
     },
     "metadata": {
      "needs_background": "light"
     },
     "output_type": "display_data"
    }
   ],
   "source": [
    "#Confusion matrix heatmap for Logistic regression\n",
    "plt.title(\"Logistic Regression\")\n",
    "sns.heatmap(confusion_matrix(y_test,y_pred_logistic),annot=True)\n",
    "plt.show()"
   ]
  },
  {
   "cell_type": "code",
   "execution_count": 14,
   "id": "5530e616",
   "metadata": {},
   "outputs": [],
   "source": [
    "# Logistic Regression\n",
    "# True Positives: 27 \n",
    "# True Negatives: 27\n",
    "# Type 1 Error=> False Positive: 5 \n",
    "# Type 2 Error=> False Negative: 2"
   ]
  },
  {
   "cell_type": "markdown",
   "id": "d4a7bccd",
   "metadata": {},
   "source": [
    "## Random Forest Classifier"
   ]
  },
  {
   "cell_type": "code",
   "execution_count": 15,
   "id": "c065563c",
   "metadata": {},
   "outputs": [
    {
     "data": {
      "text/plain": [
       "RandomForestClassifier()"
      ]
     },
     "execution_count": 15,
     "metadata": {},
     "output_type": "execute_result"
    }
   ],
   "source": [
    "#Creating the Random Forest Classifier model\n",
    "np.random.seed(42)\n",
    "random_forest_model=RandomForestClassifier()\n",
    "random_forest_model.fit(x_train,y_train)"
   ]
  },
  {
   "cell_type": "code",
   "execution_count": 16,
   "id": "10d70564",
   "metadata": {},
   "outputs": [],
   "source": [
    "#Predicting/testing the Random Forest Classifier model\n",
    "y_pred_rfc=random_forest_model.predict(x_test)"
   ]
  },
  {
   "cell_type": "code",
   "execution_count": 17,
   "id": "a3038abd",
   "metadata": {},
   "outputs": [
    {
     "name": "stdout",
     "output_type": "stream",
     "text": [
      "Accuracy score : 0.869\n",
      "Recall score   : 0.875\n",
      "F1 score       : 0.875\n"
     ]
    }
   ],
   "source": [
    "#Accuracy and recall values\n",
    "print(\"Accuracy score : %0.3f\"%accuracy_score(y_test,y_pred_rfc))\n",
    "print(\"Recall score   : %0.3f\"%recall_score(y_test,y_pred_rfc))\n",
    "print(\"F1 score       : %0.3f\"%f1_score(y_test,y_pred_rfc))"
   ]
  },
  {
   "cell_type": "code",
   "execution_count": 18,
   "id": "f561749b",
   "metadata": {},
   "outputs": [],
   "source": [
    "#Adding the accuracy scores to the dictionaries\n",
    "accuracy_values[\"Random Forest\"]=accuracy_score(y_test,y_pred_rfc)*100\n",
    "recall_values[\"Random Forest\"]=recall_score(y_test,y_pred_rfc)*100\n",
    "f1_values[\"Random Forest\"]=f1_score(y_test,y_pred_rfc)*100"
   ]
  },
  {
   "cell_type": "code",
   "execution_count": 19,
   "id": "aaf05b4d",
   "metadata": {},
   "outputs": [
    {
     "data": {
      "image/png": "[encoded data removed]",
      "text/plain": [
       "<Figure size 432x288 with 2 Axes>"
      ]
     },
     "metadata": {
      "needs_background": "light"
     },
     "output_type": "display_data"
    }
   ],
   "source": [
    "#Confusion matrix heatmap for Random Forest Classifier\n",
    "plt.title(\"Random Forest Classifier\")\n",
    "sns.heatmap(confusion_matrix(y_test,y_pred_rfc),annot=True)\n",
    "plt.show()"
   ]
  },
  {
   "cell_type": "code",
   "execution_count": 20,
   "id": "de9c32f9",
   "metadata": {},
   "outputs": [],
   "source": [
    "# Random Forest Classifier\n",
    "# True Positives: 25 \n",
    "# True Negatives: 28\n",
    "# Type 1 Error=> False Positive: 4 \n",
    "# Type 2 Error=> False Negative: 4"
   ]
  },
  {
   "cell_type": "markdown",
   "id": "19c6e777",
   "metadata": {},
   "source": [
    "## KNN Classifier"
   ]
  },
  {
   "cell_type": "code",
   "execution_count": 21,
   "id": "8d5addb4",
   "metadata": {},
   "outputs": [
    {
     "data": {
      "text/plain": [
       "KNeighborsClassifier()"
      ]
     },
     "execution_count": 21,
     "metadata": {},
     "output_type": "execute_result"
    }
   ],
   "source": [
    "#Creating the KNN Classifier model\n",
    "np.random.seed(42)\n",
    "knn_model=KNeighborsClassifier()\n",
    "knn_model.fit(x_train,y_train)"
   ]
  },
  {
   "cell_type": "code",
   "execution_count": 22,
   "id": "07c44687",
   "metadata": {},
   "outputs": [],
   "source": [
    "#Predicting/testing the KNN Classifier model\n",
    "y_pred_knn=knn_model.predict(x_test)"
   ]
  },
  {
   "cell_type": "code",
   "execution_count": 23,
   "id": "6228d56a",
   "metadata": {},
   "outputs": [
    {
     "name": "stdout",
     "output_type": "stream",
     "text": [
      "Accuracy score : 0.689\n",
      "Recall score   : 0.750\n",
      "F1 score       : 0.716\n"
     ]
    }
   ],
   "source": [
    "#Accuracy and recall values\n",
    "print(\"Accuracy score : %0.3f\"%accuracy_score(y_test,y_pred_knn))\n",
    "print(\"Recall score   : %0.3f\"%recall_score(y_test,y_pred_knn))\n",
    "print(\"F1 score       : %0.3f\"%f1_score(y_test,y_pred_knn))"
   ]
  },
  {
   "cell_type": "code",
   "execution_count": 24,
   "id": "eb8bf5db",
   "metadata": {},
   "outputs": [],
   "source": [
    "#Adding the accuracy scores to the dictionaries\n",
    "accuracy_values[\"KNN\"]=accuracy_score(y_test,y_pred_knn)*100\n",
    "recall_values[\"KNN\"]=recall_score(y_test,y_pred_knn)*100\n",
    "f1_values[\"KNN\"]=f1_score(y_test,y_pred_knn)*100"
   ]
  },
  {
   "cell_type": "code",
   "execution_count": 25,
   "id": "5022b9d7",
   "metadata": {},
   "outputs": [
    {
     "data": {
      "image/png": "[encoded data removed]",
      "text/plain": [
       "<Figure size 432x288 with 2 Axes>"
      ]
     },
     "metadata": {
      "needs_background": "light"
     },
     "output_type": "display_data"
    }
   ],
   "source": [
    "#Confusion matrix heatmap for K Neighbours Classifier\n",
    "plt.title(\"K Neighbour Classifier\")\n",
    "sns.heatmap(confusion_matrix(y_test,y_pred_knn),annot=True)\n",
    "plt.show()"
   ]
  },
  {
   "cell_type": "code",
   "execution_count": 26,
   "id": "42986acb",
   "metadata": {},
   "outputs": [],
   "source": [
    "# K Neighbours Classifier\n",
    "# True Positives: 18\n",
    "# True Negatives: 24\n",
    "# Type 1 Error=> False Positive: 8 \n",
    "# Type 2 Error=> False Negative: 11"
   ]
  },
  {
   "cell_type": "markdown",
   "id": "2f920e1e",
   "metadata": {},
   "source": [
    "## Support Vector Machine Classifier (SVM)"
   ]
  },
  {
   "cell_type": "code",
   "execution_count": 27,
   "id": "1f05ed06",
   "metadata": {},
   "outputs": [
    {
     "data": {
      "text/plain": [
       "SVC(kernel='linear')"
      ]
     },
     "execution_count": 27,
     "metadata": {},
     "output_type": "execute_result"
    }
   ],
   "source": [
    "#Creating the SVM model\n",
    "np.random.seed(42)\n",
    "svm_model=svm.SVC(kernel=\"linear\")\n",
    "svm_model.fit(x_train,y_train)"
   ]
  },
  {
   "cell_type": "code",
   "execution_count": 28,
   "id": "47c41977",
   "metadata": {},
   "outputs": [],
   "source": [
    "#Predicting/testing the SVM Classifier model\n",
    "y_pred_svm=svm_model.predict(x_test)"
   ]
  },
  {
   "cell_type": "code",
   "execution_count": 29,
   "id": "d6431263",
   "metadata": {},
   "outputs": [
    {
     "name": "stdout",
     "output_type": "stream",
     "text": [
      "Accuracy score : 0.852\n",
      "Recall score   : 0.812\n",
      "F1 score       : 0.852\n"
     ]
    }
   ],
   "source": [
    "#Accuracy and recall values\n",
    "print(\"Accuracy score : %0.3f\"%accuracy_score(y_test,y_pred_svm))\n",
    "print(\"Recall score   : %0.3f\"%recall_score(y_test,y_pred_svm))\n",
    "print(\"F1 score       : %0.3f\"%f1_score(y_test,y_pred_svm))"
   ]
  },
  {
   "cell_type": "code",
   "execution_count": 30,
   "id": "e1f19458",
   "metadata": {},
   "outputs": [],
   "source": [
    "#Adding the accuracy scores to the dictionaries\n",
    "accuracy_values[\"SVM\"]=accuracy_score(y_test,y_pred_svm)*100\n",
    "recall_values[\"SVM\"]=recall_score(y_test,y_pred_svm)*100\n",
    "f1_values[\"SVM\"]=f1_score(y_test,y_pred_svm)*100"
   ]
  },
  {
   "cell_type": "code",
   "execution_count": 31,
   "id": "3df4be2f",
   "metadata": {},
   "outputs": [
    {
     "data": {
      "image/png": "[encoded data removed]",
      "text/plain": [
       "<Figure size 432x288 with 2 Axes>"
      ]
     },
     "metadata": {
      "needs_background": "light"
     },
     "output_type": "display_data"
    }
   ],
   "source": [
    "#Confusion matrix heatmap for SVM Classifier\n",
    "plt.title(\"Support Vector Machine Classifier\")\n",
    "sns.heatmap(confusion_matrix(y_test,y_pred_svm),annot=True)\n",
    "plt.show()"
   ]
  },
  {
   "cell_type": "code",
   "execution_count": 32,
   "id": "6d50c226",
   "metadata": {},
   "outputs": [],
   "source": [
    "# SVM Classifier\n",
    "# True Positives: 26\n",
    "# True Negatives: 26\n",
    "# Type 1 Error=> False Positive: 6\n",
    "# Type 2 Error=> False Negative: 3"
   ]
  },
  {
   "cell_type": "markdown",
   "id": "4cbd3f58",
   "metadata": {},
   "source": [
    "## SVM with PCA"
   ]
  },
  {
   "cell_type": "code",
   "execution_count": 33,
   "id": "0dee12ad",
   "metadata": {},
   "outputs": [],
   "source": [
    "from sklearn.decomposition import PCA\n",
    "from sklearn.preprocessing import StandardScaler\n",
    "\n",
    "scaler = StandardScaler()\n",
    "x_train, x_test, y_train, y_test = train_test_split(x, y, test_size=0.3, random_state=42)\n",
    "\n",
    "x_train = scaler.fit_transform(x_train)\n",
    "x_test = scaler.transform(x_test)\n",
    "\n",
    "pca = PCA(n_components=3)\n",
    "scaler = StandardScaler()\n",
    "\n",
    "x_train = pca.fit_transform(x_train)\n",
    "x_test = pca.transform(x_test)\n",
    "\n",
    "x_train = scaler.fit_transform(x_train)\n",
    "x_test = scaler.transform(x_test)"
   ]
  },
  {
   "cell_type": "code",
   "execution_count": 34,
   "id": "60087901",
   "metadata": {},
   "outputs": [
    {
     "data": {
      "text/plain": [
       "Text(0, 0.5, 'Second Principal Component')"
      ]
     },
     "execution_count": 34,
     "metadata": {},
     "output_type": "execute_result"
    },
    {
     "data": {
      "image/png": "[encoded data removed]",
      "text/plain": [
       "<Figure size 576x432 with 1 Axes>"
      ]
     },
     "metadata": {
      "needs_background": "light"
     },
     "output_type": "display_data"
    }
   ],
   "source": [
    "plt.figure(figsize=(8,6))\n",
    "plt.scatter(x_train[:,0],x_train[:,1],c=y_train,cmap='plasma')\n",
    "plt.xlabel('First principal component')\n",
    "plt.ylabel('Second Principal Component')"
   ]
  },
  {
   "cell_type": "code",
   "execution_count": 35,
   "id": "c032aff5",
   "metadata": {},
   "outputs": [
    {
     "data": {
      "text/plain": [
       "SVC()"
      ]
     },
     "execution_count": 35,
     "metadata": {},
     "output_type": "execute_result"
    }
   ],
   "source": [
    "#Creating the SVM model after PCA\n",
    "np.random.seed(42)\n",
    "svmpca_model=svm.SVC()\n",
    "svmpca_model.fit(x_train,y_train)"
   ]
  },
  {
   "cell_type": "code",
   "execution_count": 36,
   "id": "b8316ae0",
   "metadata": {},
   "outputs": [],
   "source": [
    "#Predicting/testing the SVM Classifier model after PCA\n",
    "y_pred_svmpca=svmpca_model.predict(x_test)"
   ]
  },
  {
   "cell_type": "code",
   "execution_count": 37,
   "id": "c698f777",
   "metadata": {},
   "outputs": [
    {
     "name": "stdout",
     "output_type": "stream",
     "text": [
      "Accuracy score : 0.868\n",
      "Recall score   : 0.820\n",
      "F1 score       : 0.872\n"
     ]
    }
   ],
   "source": [
    "#Accuracy and recall values\n",
    "print(\"Accuracy score : %0.3f\"%accuracy_score(y_test,y_pred_svmpca))\n",
    "print(\"Recall score   : %0.3f\"%recall_score(y_test,y_pred_svmpca))\n",
    "print(\"F1 score       : %0.3f\"%f1_score(y_test,y_pred_svmpca))"
   ]
  },
  {
   "cell_type": "code",
   "execution_count": 38,
   "id": "05933eb3",
   "metadata": {},
   "outputs": [],
   "source": [
    "#Adding the accuracy scores to the dictionaries\n",
    "accuracy_values[\"SVM with PCA\"]=accuracy_score(y_test,y_pred_svmpca)*100\n",
    "recall_values[\"SVM with PCA\"]=recall_score(y_test,y_pred_svmpca)*100\n",
    "f1_values[\"SVM with PCA\"]=f1_score(y_test,y_pred_svmpca)*100"
   ]
  },
  {
   "cell_type": "code",
   "execution_count": 39,
   "id": "5ea50178",
   "metadata": {},
   "outputs": [
    {
     "data": {
      "image/png": "[encoded data removed]",
      "text/plain": [
       "<Figure size 432x288 with 2 Axes>"
      ]
     },
     "metadata": {
      "needs_background": "light"
     },
     "output_type": "display_data"
    }
   ],
   "source": [
    "#Confusion matrix heatmap for SVM Classifier after PCA\n",
    "plt.title(\"SVM with PCA\")\n",
    "sns.heatmap(confusion_matrix(y_test,y_pred_svmpca),annot=True)\n",
    "plt.show()"
   ]
  },
  {
   "cell_type": "markdown",
   "id": "1c5169dd",
   "metadata": {},
   "source": [
    "## KNN with PCA"
   ]
  },
  {
   "cell_type": "code",
   "execution_count": 40,
   "id": "2e648fb5",
   "metadata": {},
   "outputs": [
    {
     "data": {
      "text/plain": [
       "KNeighborsClassifier()"
      ]
     },
     "execution_count": 40,
     "metadata": {},
     "output_type": "execute_result"
    }
   ],
   "source": [
    "#Creating the KNN CLassifier model after PCA\n",
    "np.random.seed(42)\n",
    "knnpca_model=KNeighborsClassifier()\n",
    "knnpca_model.fit(x_train,y_train)"
   ]
  },
  {
   "cell_type": "code",
   "execution_count": 41,
   "id": "b2e24ced",
   "metadata": {},
   "outputs": [],
   "source": [
    "#Predicting/testing the KNN Classifier model after PCA\n",
    "y_pred_knnpca=knnpca_model.predict(x_test)"
   ]
  },
  {
   "cell_type": "code",
   "execution_count": 42,
   "id": "4a2b47af",
   "metadata": {},
   "outputs": [
    {
     "name": "stdout",
     "output_type": "stream",
     "text": [
      "Accuracy score : 0.846\n",
      "Recall score   : 0.820\n",
      "F1 score       : 0.854\n"
     ]
    }
   ],
   "source": [
    "#Accuracy and recall values\n",
    "print(\"Accuracy score : %0.3f\"%accuracy_score(y_test,y_pred_knnpca))\n",
    "print(\"Recall score   : %0.3f\"%recall_score(y_test,y_pred_knnpca))\n",
    "print(\"F1 score       : %0.3f\"%f1_score(y_test,y_pred_knnpca))"
   ]
  },
  {
   "cell_type": "code",
   "execution_count": 43,
   "id": "6ce3c1fb",
   "metadata": {},
   "outputs": [],
   "source": [
    "#Adding the accuracy scores to the dictionaries\n",
    "accuracy_values[\"KNN with PCA\"]=accuracy_score(y_test,y_pred_knnpca)*100\n",
    "recall_values[\"KNN with PCA\"]=recall_score(y_test,y_pred_knnpca)*100\n",
    "f1_values[\"KNN with PCA\"]=f1_score(y_test,y_pred_knnpca)*100"
   ]
  },
  {
   "cell_type": "code",
   "execution_count": 44,
   "id": "5b9cd90b",
   "metadata": {},
   "outputs": [
    {
     "data": {
      "image/png": "[encoded data removed]",
      "text/plain": [
       "<Figure size 432x288 with 2 Axes>"
      ]
     },
     "metadata": {
      "needs_background": "light"
     },
     "output_type": "display_data"
    }
   ],
   "source": [
    "#Confusion matrix heatmap for K Neighbours Classifier after PCA\n",
    "plt.title(\"K Neighbour Classifier with PCA\")\n",
    "sns.heatmap(confusion_matrix(y_test,y_pred_knnpca),annot=True)\n",
    "plt.show()"
   ]
  },
  {
   "cell_type": "markdown",
   "id": "d8d98ad4",
   "metadata": {},
   "source": [
    "\n",
    "\n",
    "## Comparing models"
   ]
  },
  {
   "cell_type": "code",
   "execution_count": 45,
   "id": "a2941cee",
   "metadata": {},
   "outputs": [
    {
     "data": {
      "image/png": "[encoded data removed]",
      "text/plain": [
       "<Figure size 720x288 with 1 Axes>"
      ]
     },
     "metadata": {
      "needs_background": "light"
     },
     "output_type": "display_data"
    }
   ],
   "source": [
    "#Plotting Bar graph for Accuracy\n",
    "fig, ax = plt.subplots(figsize =(10, 4))\n",
    "plt.title(\"Accuracy Scores\")\n",
    "# Horizontal Bar Plot\n",
    "ax.barh(list(accuracy_values.keys()),list(accuracy_values.values()),color=[\"#0088AA\",\"#007766\",\"#EE5500\",\"#EE7700\",\"#EEEE00\",\"#333\"])\n",
    "for s in ['top', 'bottom', 'left', 'right']:\n",
    "    ax.spines[s].set_visible(False)\n",
    "    \n",
    "# Add annotation to bars\n",
    "for i in ax.patches:\n",
    "    plt.text(i.get_width()+0.1, i.get_y()+0.3,\n",
    "             str(round((i.get_width()), 2)),\n",
    "             fontsize = 12,\n",
    "             color ='#0f0f0f')"
   ]
  },
  {
   "cell_type": "code",
   "execution_count": 46,
   "id": "bdcf6387",
   "metadata": {},
   "outputs": [
    {
     "data": {
      "image/png": "[encoded data removed]",
      "text/plain": [
       "<Figure size 720x288 with 1 Axes>"
      ]
     },
     "metadata": {
      "needs_background": "light"
     },
     "output_type": "display_data"
    }
   ],
   "source": [
    "fig, ax = plt.subplots(figsize =(10, 4))\n",
    "plt.title(\"Recall Scores\")\n",
    "# Horizontal Bar Plot\n",
    "ax.barh(list(recall_values.keys()),list(recall_values.values()),color=[\"#0088AA\",\"#007766\",\"#EE5500\",\"#EE7700\",\"#EEEE00\",\"#333\"])\n",
    "for s in ['top', 'bottom', 'left', 'right']:\n",
    "    ax.spines[s].set_visible(False)\n",
    "    \n",
    "# Add annotation to bars\n",
    "for i in ax.patches:\n",
    "    plt.text(i.get_width()+0.1, i.get_y()+0.3,\n",
    "             str(round((i.get_width()), 2)),\n",
    "             fontsize = 12,\n",
    "             color ='#0f0f0f')\n",
    " "
   ]
  },
  {
   "cell_type": "code",
   "execution_count": 47,
   "id": "2040e8d7",
   "metadata": {},
   "outputs": [
    {
     "data": {
      "image/png": "[encoded data removed]",
      "text/plain": [
       "<Figure size 720x288 with 1 Axes>"
      ]
     },
     "metadata": {
      "needs_background": "light"
     },
     "output_type": "display_data"
    }
   ],
   "source": [
    "fig, ax = plt.subplots(figsize =(10, 4))\n",
    "plt.title(\"F1 Scores\")\n",
    "# Horizontal Bar Plot\n",
    "ax.barh(list(f1_values.keys()),list(f1_values.values()),color=[\"#0088AA\",\"#007766\",\"#EE5500\",\"#EE7700\",\"#EEEE00\",\"#333\"])\n",
    "for s in ['top', 'bottom', 'left', 'right']:\n",
    "    ax.spines[s].set_visible(False)\n",
    "    \n",
    "# Add annotation to bars\n",
    "for i in ax.patches:\n",
    "    plt.text(i.get_width()+0.1, i.get_y()+0.3,\n",
    "             str(round((i.get_width()), 2)),\n",
    "             fontsize = 12,\n",
    "             color ='#0f0f0f')"
   ]
  }
 ],
 "metadata": {
  "kernelspec": {
   "display_name": "Python 3",
   "language": "python",
   "name": "python3"
  },
  "language_info": {
   "codemirror_mode": {
    "name": "ipython",
    "version": 3
   },
   "file_extension": ".py",
   "mimetype": "text/x-python",
   "name": "python",
   "nbconvert_exporter": "python",
   "pygments_lexer": "ipython3",
   "version": "3.8.8"
  }
 },
 "nbformat": 4,
 "nbformat_minor": 5
}
